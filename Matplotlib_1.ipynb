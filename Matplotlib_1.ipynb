{
  "nbformat": 4,
  "nbformat_minor": 0,
  "metadata": {
    "colab": {
      "provenance": [],
      "authorship_tag": "ABX9TyMUEfbqYGoLdqeu0aQ45t1O",
      "include_colab_link": true
    },
    "kernelspec": {
      "name": "python3",
      "display_name": "Python 3"
    },
    "language_info": {
      "name": "python"
    }
  },
  "cells": [
    {
      "cell_type": "markdown",
      "metadata": {
        "id": "view-in-github",
        "colab_type": "text"
      },
      "source": [
        "<a href=\"https://colab.research.google.com/github/kholikulovelyor/Matplotlib/blob/main/Matplotlib_1.ipynb\" target=\"_parent\"><img src=\"https://colab.research.google.com/assets/colab-badge.svg\" alt=\"Open In Colab\"/></a>"
      ]
    },
    {
      "cell_type": "markdown",
      "source": [
        "Lang: Eng\n",
        "#Installation of Matplotlib\n",
        "If you have Python and PIP already installed on a system, then installation of Matplotlib is very easy.\n",
        "\n",
        "#Install it using this command:\n",
        "\n",
        "C:\\Users\\Your Name>pip install matplotlib\n",
        "If this command fails, then use a python distribution that already has Matplotlib installed,  like Anaconda, Spyder etc.\n",
        "\n",
        "#Import Matplotlib\n",
        "Once Matplotlib is installed, import it in your applications by adding the import module statement:\n",
        "\n",
        "#import matplotlib\n",
        "Now Matplotlib is imported and ready to use:\n",
        "\n",
        "#Checking Matplotlib Version\n",
        "The version string is stored under __version__ attribute.\n",
        "\n",
        "#Example\n",
        "import matplotlib\n",
        "\n",
        "print(matplotlib.__version__)"
      ],
      "metadata": {
        "id": "RCEN3JdGnEMm"
      }
    },
    {
      "cell_type": "markdown",
      "source": [
        "Lang: Uzb\n",
        "\n",
        "#Matplotlib-ni o'rnatish\n",
        "Agar sizda Python va PIP tizimda allaqachon o'rnatilgan bo'lsa, Matplotlibni o'rnatish juda oson.\n",
        "\n",
        "#Ushbu buyruq yordamida uni o'rnating:\n",
        "\n",
        "C:\\Users\\Your Name>pip install matplotlib\n",
        "Agar bu buyruq bajarilmasa, Matplotlib o'rnatilgan python distributividan foydalaning, masalan, Anaconda, Spyder va boshqalar.\n",
        "\n",
        "#Matplotlib-ni import qiling\n",
        "Matplotlib o'rnatilgandan so'ng, import moduli bayonotini qo'shish orqali uni ilovalaringizga import qiling:\n",
        "\n",
        "#matplotlibni import qiling\n",
        "Endi Matplotlib import qilingan va foydalanishga tayyor:\n",
        "\n",
        "#Matplotlib versiyasi tekshirilmoqda\n",
        "Versiya qatori __version__ atributi ostida saqlanadi.\n",
        "\n",
        "#Misol\n",
        "matplotlibni import qiling\n",
        "\n",
        "chop etish (matplotlib.__versiya__)"
      ],
      "metadata": {
        "id": "pcfHQV1AoKPU"
      }
    }
  ]
}