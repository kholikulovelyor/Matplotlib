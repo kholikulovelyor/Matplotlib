{
  "nbformat": 4,
  "nbformat_minor": 0,
  "metadata": {
    "colab": {
      "provenance": [],
      "collapsed_sections": [],
      "authorship_tag": "ABX9TyMOuIjCRHxPd4oHpUkMMXsX",
      "include_colab_link": true
    },
    "kernelspec": {
      "name": "python3",
      "display_name": "Python 3"
    },
    "language_info": {
      "name": "python"
    }
  },
  "cells": [
    {
      "cell_type": "markdown",
      "metadata": {
        "id": "view-in-github",
        "colab_type": "text"
      },
      "source": [
        "<a href=\"https://colab.research.google.com/github/kholikulovelyor/Matplotlib/blob/main/Matplotlib_0.ipynb\" target=\"_parent\"><img src=\"https://colab.research.google.com/assets/colab-badge.svg\" alt=\"Open In Colab\"/></a>"
      ]
    },
    {
      "cell_type": "markdown",
      "source": [
        "#**Matplotlib**"
      ],
      "metadata": {
        "id": "RtURAnrzgBmf"
      }
    },
    {
      "cell_type": "markdown",
      "source": [
        "Language:English\n",
        "# What is Matplotlib\n",
        "Matplotlib is a low level graph plotting library in python that serves as a visualization utility.\n",
        "\n",
        "Matplotlib was created by John D. Hunter.\n",
        "\n",
        "Matplotlib is open source and we can use it freely.\n",
        "\n",
        "Matplotlib is mostly written in python, a few segments are written in C, Objective-C and Javascript for Platform compatibility."
      ],
      "metadata": {
        "id": "Ch_ZAzOngHF_"
      }
    },
    {
      "cell_type": "markdown",
      "source": [
        "Language:Uzbek\n",
        "\n",
        "#Matplotlib nima o'zi\n",
        "\n",
        "Matplotlib - bu python-da vizualizatsiya uchun yordamchi dastur bo'lib xizmat qiluvchi past darajadagi grafik chizmalar kutubxonasi.\n",
        "\n",
        "Matplotlib Jon D. Hunter tomonidan yaratilgan.\n",
        "\n",
        "Matplotlib ochiq manba va biz undan erkin foydalanishimiz mumkin.\n",
        "\n",
        "Matplotlib asosan python-da yozilgan, bir nechta segmentlar C, Objective-C va Javascript uchun Platform mosligida yozilgan."
      ],
      "metadata": {
        "id": "hBlwQaD7geOb"
      }
    },
    {
      "cell_type": "markdown",
      "source": [
        "##Where is the Matplotlib Codebase?\n",
        "https://github.com/matplotlib/matplotlib"
      ],
      "metadata": {
        "id": "Qzzw-gtqhBj9"
      }
    },
    {
      "cell_type": "code",
      "source": [
        "from google.colab import drive\n",
        "drive.mount('/content/drive')"
      ],
      "metadata": {
        "id": "qDDnKejzi_kA"
      },
      "execution_count": null,
      "outputs": []
    },
    {
      "cell_type": "code",
      "source": [
        "#Matplotlib kod bazasi qayerda?\n",
        "https://github.com/matplotlib/matplotlib"
      ],
      "metadata": {
        "id": "FpRchKdwhF2t"
      },
      "execution_count": null,
      "outputs": []
    }
  ]
}